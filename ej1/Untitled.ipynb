{
 "cells": [
  {
   "cell_type": "markdown",
   "metadata": {},
   "source": [
    "# Experimentacion"
   ]
  },
  {
   "cell_type": "code",
   "execution_count": 1,
   "metadata": {
    "collapsed": true
   },
   "outputs": [],
   "source": [
    "# -*- coding: utf-8 -*-\n",
    "\n",
    "import numpy as np\n",
    "\n",
    "def generarCasoUniforme(n, minimo=0, maximo=10):\n",
    "    caso = []\n",
    "    caso.append(str(n))\n",
    "    for i in range(1,n+1):\n",
    "        costos_i = []\n",
    "        for j in range(i):\n",
    "            c_j_i = np.random.randint(minimo, maximo+1)\n",
    "            costos_i.append(c_j_i)\n",
    "            costos_i_str = \" \".join(str(k) for k in costos_i)\n",
    "        caso.append(costos_i_str)\n",
    "\n",
    "    return caso\n",
    "\n",
    "def generarCasoNormal(n, mu=5, sigma=1):\n",
    "    caso = []\n",
    "    caso.append(str(n))\n",
    "    for i in range(1,n+1):\n",
    "        costos_i = []\n",
    "        for j in range(i):\n",
    "            c_j_i = int(np.random.normal(mu, sigma))\n",
    "            c_j_i = max(c_j_i, 0)\n",
    "            costos_i.append(c_j_i)\n",
    "            costos_i_str = \" \".join(str(k) for k in costos_i)\n",
    "        caso.append(costos_i_str)\n",
    "\n",
    "    return caso\n",
    "\n",
    "def generarEntradaUniforme(n, minimo=0, maximo=10, archivo=\"output\"):\n",
    "    with open(archivo, 'w') as entrada:\n",
    "        for i in range(50):\n",
    "            caso = generarCasoUniforme(n, minimo, maximo)\n",
    "            for j in caso:\n",
    "                entrada.write(j + '\\n')\n",
    "        entrada.write(\"0\\n\")\n",
    "\n",
    "    return\n",
    "\n",
    "def generarEntradaNormal(n, mu=5, sigma=1, archivo=\"output\"):\n",
    "    with open(archivo, 'w') as entrada:\n",
    "        for i in range(30):\n",
    "            caso = generarCasoNormal(n, mu, sigma)\n",
    "            for j in caso:\n",
    "                entrada.write(j + '\\n')\n",
    "        entrada.write(\"0 \\n\")\n",
    "\n",
    "    return\n",
    "\n",
    "\n",
    "def generarEntradasHasta(n):\n",
    "    trabajos = 50\n",
    "    while(trabajos <= n):        \n",
    "        generarEntradaUniforme(trabajos, 1, 100, \"tests/uniforme_%i.in\" % (trabajos))\n",
    "        generarEntradaNormal(trabajos, 10, 5, \"tests/normal_10_5_%i.in\" % (trabajos))\n",
    "        generarEntradaNormal(trabajos, 40, 5, \"tests/normal_40_5_%i.in\" % (trabajos))\n",
    "        generarEntradaNormal(trabajos, 80, 5, \"tests/normal_80_5_%i.in\" % (trabajos))\n",
    "        generarEntradaNormal(trabajos, 160, 5, \"tests/normal_160_5_%i.in\" % (trabajos))\n",
    "        generarEntradaNormal(trabajos, 320, 5, \"tests/normal_320_5_%i.in\" % (trabajos))\n",
    "        generarEntradaNormal(trabajos, 40, 0, \"tests/normal_40_0_%i.in\" % (trabajos))\n",
    "        generarEntradaNormal(trabajos, 40, 10, \"tests/normal_40_10_%i.in\" % (trabajos))\n",
    "        generarEntradaNormal(trabajos, 40, 20, \"tests/normal_40_20_%i.in\" % (trabajos))\n",
    "        generarEntradaNormal(trabajos, 40, 40, \"tests/normal_40_40_%i.in\" % (trabajos))\n",
    "        trabajos = trabajos + 20\n",
    "\n",
    "\n",
    "# generarEntradasHasta(350)"
   ]
  },
  {
   "cell_type": "code",
   "execution_count": 3,
   "metadata": {},
   "outputs": [],
   "source": [
    "def generarEntradaNormalHasta(n, mu=5, sigma=1, archivo=\"output\"):\n",
    "    with open(archivo, 'w') as entrada:\n",
    "        for k in range(5, n+1):\n",
    "            for i in range(50):\n",
    "                caso = generarCasoNormal(k, mu, sigma)\n",
    "                for j in caso:\n",
    "                    entrada.write(j + '\\n')\n",
    "            entrada.write(\"0 \\n\")\n",
    "\n",
    "    return"
   ]
  },
  {
   "cell_type": "code",
   "execution_count": 4,
   "metadata": {
    "collapsed": true
   },
   "outputs": [],
   "source": [
    "generarEntradaNormalHasta(100, 160, 5, \"tests/creciente.test-in\")\n"
   ]
  },
  {
   "cell_type": "code",
   "execution_count": null,
   "metadata": {
    "collapsed": true
   },
   "outputs": [],
   "source": []
  }
 ],
 "metadata": {
  "kernelspec": {
   "display_name": "Python 3",
   "language": "python",
   "name": "python3"
  },
  "language_info": {
   "codemirror_mode": {
    "name": "ipython",
    "version": 3
   },
   "file_extension": ".py",
   "mimetype": "text/x-python",
   "name": "python",
   "nbconvert_exporter": "python",
   "pygments_lexer": "ipython3",
   "version": "3.6.1"
  }
 },
 "nbformat": 4,
 "nbformat_minor": 2
}
