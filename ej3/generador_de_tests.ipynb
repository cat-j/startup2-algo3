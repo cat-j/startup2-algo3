{
 "cells": [
  {
   "cell_type": "markdown",
   "metadata": {},
   "source": [
    "# Lets Create Some Random Graphs"
   ]
  },
  {
   "cell_type": "code",
   "execution_count": null,
   "metadata": {
    "collapsed": true
   },
   "outputs": [],
   "source": [
    "# -*- coding: utf-8 -*-\n",
    "import pandas as pd\n",
    "import sys\n",
    "sys.path.append('/usr/local/lib/python2.7/dist-packages')\n",
    "import seaborn as sns\n",
    "import matplotlib.pyplot as plt\n",
    "import numpy as np\n",
    "from scipy import stats\n",
    "import random\n",
    "import math"
   ]
  },
  {
   "cell_type": "code",
   "execution_count": null,
   "metadata": {
    "collapsed": true
   },
   "outputs": [],
   "source": [
    "def generarGrafoPesosNormales(f, c, mu=5, sigma=1, p_arista=0.5):\n",
    "    assert(f<=c)\n",
    "\n",
    "    grafo = []\n",
    "    verticesUsados = []\n",
    "    aristasUsadas = []\n",
    "\n",
    "    # Genera un grafo minimal con respecto a que cualquier cliente\n",
    "    # sea alcanzable desde al menos una fábrica.\n",
    "\n",
    "    for cliente in range(f+1, f+c+1):\n",
    "        # Se asegura de que cada cliente sea adyacente a una fábrica\n",
    "        # o a otro cliente tal que hay un camino entre él y una fábrica.\n",
    "        vecino = np.random.choice([i for i in range(1,f+1)] + verticesUsados)\n",
    "        verticesUsados.append(cliente)\n",
    "        l, r = min(cliente, vecino), max(cliente, vecino)\n",
    "        grafo.append([ l, r, int(max(np.random.normal(mu, sigma), 0)) ])\n",
    "        aristasUsadas.append((l,r))\n",
    "\n",
    "    # Agrega más aristas con probabilidad p_arista.\n",
    "    # Cada una es independiente.\n",
    "\n",
    "    for i in range(1, f+c+1):\n",
    "        for j in range(i+1, f+c+1):\n",
    "            if not((i,j) in aristasUsadas):\n",
    "                p = np.random.uniform()\n",
    "                if p <= p_arista:\n",
    "                    grafo.append([ i, j, int(max(np.random.normal(mu, sigma), 0)) ])\n",
    "\n",
    "    grafoStr = [ \" \".join( str(k) for k in e ) for e in grafo ]\n",
    "\n",
    "    return grafoStr\n",
    "\n",
    "def generarEntradaPropClientes(n, mu=5, sigma=1, p_arista=0.5, archivo=\"output\"):\n",
    "    # Genera un caso de test con 32 grafos de n nodos. Los pesos están distribuidos\n",
    "    # normalmente según los parámetros especificados.\n",
    "    minimo = n // 2 if n%2 == 0 else n // 2 + 1\n",
    "\n",
    "    with open(archivo, 'w') as entrada:\n",
    "        for k in range(minimo,n):    \n",
    "            for i in range(50):\n",
    "                grafo = generarGrafoPesosNormales(n-k, k, mu, sigma, p_arista)\n",
    "                entrada.write(str(n-k) + \" \" + str(k) + \" \" + str(len(grafo)) + '\\n')\n",
    "                for j in grafo:\n",
    "                    entrada.write(j + '\\n')\n",
    "\n",
    "        entrada.write(\"0\\n\")\n",
    "        \n",
    "def generarEntradaCantidadesFijas(f, c, mu=5, sigma=1, archivo=\"output\"):\n",
    "    # Genera un caso de test con 32 grafos de n nodos. Los pesos están distribuidos\n",
    "    # normalmente según los parámetros especificados.\n",
    "    with open(archivo, 'w') as entrada:\n",
    "        for p in np.arange(0.0, 1.1, 0.05):\n",
    "            for i in range(80):\n",
    "                grafo = generarGrafoPesosNormales(f, c, mu, sigma, p)\n",
    "                entrada.write(str(f) + \" \" + str(c) + \" \" + str(len(grafo)) + '\\n')\n",
    "                for j in grafo:\n",
    "                    entrada.write(j + '\\n')\n",
    "        entrada.write(\"0\\n\")"
   ]
  },
  {
   "cell_type": "code",
   "execution_count": null,
   "metadata": {
    "collapsed": true
   },
   "outputs": [],
   "source": [
    "for p in np.arange(0.0, 1.1, 0.25):\n",
    "    generarEntradaPropClientes(50, 20, 5, p, \"tests/proporcionClientes_{0}.test-in\".format(p))"
   ]
  },
  {
   "cell_type": "code",
   "execution_count": null,
   "metadata": {
    "collapsed": true,
    "scrolled": true
   },
   "outputs": [],
   "source": [
    "for j in range(10, 40, 10):\n",
    "    generarEntradaCantidadesFijas(j, j+10, 20, 5, \"tests/densidadCreciente_{0}_{1}.test-in\".format(j, j+10))"
   ]
  },
  {
   "cell_type": "code",
   "execution_count": null,
   "metadata": {
    "collapsed": true
   },
   "outputs": [],
   "source": [
    "for p in np.arange(0.0, 1.1, 0.25):\n",
    "    generarEntradaPropClientes(50, 20, 5, p, \"tests/ccreciente_{0}.test-in\".format(p))"
   ]
  },
  {
   "cell_type": "markdown",
   "metadata": {},
   "source": [
    "# Corremos el experimento"
   ]
  },
  {
   "cell_type": "code",
   "execution_count": null,
   "metadata": {
    "collapsed": true
   },
   "outputs": [],
   "source": [
    "! make expe"
   ]
  },
  {
   "cell_type": "code",
   "execution_count": null,
   "metadata": {
    "collapsed": true
   },
   "outputs": [],
   "source": [
    "results = {}\n",
    "\n",
    "for p in np.arange(0.0, 1.1, 0.25):\n",
    "    results[\"proporcionClientes_{0}\".format(p)] = pd.read_csv(\"./experimentacion/proporcionClientes_{0}.stderr\".format(p), delimiter=\";\")\n"
   ]
  },
  {
   "cell_type": "code",
   "execution_count": null,
   "metadata": {
    "scrolled": true
   },
   "outputs": [],
   "source": [
    "results[\"proporcionClientes_0.25\"].tail()"
   ]
  },
  {
   "cell_type": "code",
   "execution_count": null,
   "metadata": {},
   "outputs": [],
   "source": [
    "df = pd.DataFrame({'Arboles': results[\"proporcionClientes_0.0\"]['Tamaño de la solucion'],\n",
    "                  'P = 0.25': results[\"proporcionClientes_0.25\"]['Tamaño de la solucion'],\n",
    "                  'P = 0.5': results[\"proporcionClientes_0.5\"]['Tamaño de la solucion'],\n",
    "                  'P = 0.75': results[\"proporcionClientes_0.75\"]['Tamaño de la solucion'],\n",
    "                  'Completos': results[\"proporcionClientes_1.0\"]['Tamaño de la solucion']})\n",
    "\n",
    "ax = df.plot(logy=False)\n",
    "ax.set_ylabel(u\"Cantidad de aristas\")\n",
    "ax.set_xlabel(u\"Cantidad de clientes\")\n",
    "\n",
    "plt.title(u\"Cantidad de aristas de la solución para varias densidades del grafo\")\n",
    "plt.show()"
   ]
  },
  {
   "cell_type": "markdown",
   "metadata": {},
   "source": [
    "## Experimento 6"
   ]
  },
  {
   "cell_type": "code",
   "execution_count": null,
   "metadata": {
    "collapsed": true
   },
   "outputs": [],
   "source": [
    "resultsD = {}\n",
    "    \n",
    "for j in range(10, 40, 10):\n",
    "    resultsD[\"densidadCreciente_{0}_{1}\".format(j, j+10)] = pd.read_csv(\"./experimentacion/densidadCreciente_{0}_{1}.stderr\".format(j, j+10), delimiter=\";\")\n"
   ]
  },
  {
   "cell_type": "code",
   "execution_count": null,
   "metadata": {},
   "outputs": [],
   "source": [
    "resultsD[\"densidadCreciente_30_40\"].tail()"
   ]
  },
  {
   "cell_type": "code",
   "execution_count": null,
   "metadata": {},
   "outputs": [],
   "source": [
    "for key, value in resultsD.items():\n",
    "    resultsD[key] = value.groupby(\"Cantidad de rutas\").mean()\n",
    "\n",
    "resultsD[\"densidadCreciente_30_40\"]"
   ]
  },
  {
   "cell_type": "code",
   "execution_count": null,
   "metadata": {},
   "outputs": [],
   "source": [
    "df = pd.DataFrame({'30 nodos': resultsD[\"densidadCreciente_10_20\"]['Tiempo de ejecucion'],\n",
    "                  '50 nodos': resultsD[\"densidadCreciente_20_30\"]['Tiempo de ejecucion'],\n",
    "                  '70 nodos': resultsD[\"densidadCreciente_30_40\"]['Tiempo de ejecucion']})\n",
    "\n",
    "ax = df.plot(logy=True)\n",
    "ax.set_ylabel(u\"Tiempo de ejecución\", fontsize=14)\n",
    "ax.set_xlabel(u\"Cantidad de aristas\", fontsize=14)\n",
    "\n",
    "plt.title(u\"Tiempo de ejecución según la densidad del grafo\", fontsize=14)\n",
    "plt.show()"
   ]
  },
  {
   "cell_type": "markdown",
   "metadata": {},
   "source": [
    "### C creciente"
   ]
  },
  {
   "cell_type": "code",
   "execution_count": null,
   "metadata": {
    "collapsed": true
   },
   "outputs": [],
   "source": [
    "resultsC = {}\n",
    "for p in np.arange(0.0, 1.1, 0.25):\n",
    "    resultsC[\"ccreciente_{0}\".format(p)] = pd.read_csv(\"experimentacion/ccreciente_{0}.stderr\".format(p), delimiter=\";\")"
   ]
  },
  {
   "cell_type": "code",
   "execution_count": null,
   "metadata": {},
   "outputs": [],
   "source": [
    "resultsC[\"ccreciente_0.0\"]"
   ]
  },
  {
   "cell_type": "code",
   "execution_count": null,
   "metadata": {},
   "outputs": [],
   "source": [
    "for key, value in resultsC.items():\n",
    "    resultsC[key] = value.groupby(\"Cantidad de clientes\").mean()\n",
    "    \n",
    "resultsC[\"ccreciente_0.0\"]"
   ]
  },
  {
   "cell_type": "code",
   "execution_count": null,
   "metadata": {
    "collapsed": true
   },
   "outputs": [],
   "source": [
    "df = pd.DataFrame({'Arboles': resultsC[\"ccreciente_0.0\"]['Tiempo de ejecucion'],\n",
    "                  'P = 0.25': resultsC[\"ccreciente_0.25\"]['Tiempo de ejecucion'],\n",
    "                  'P = 0.5': resultsC[\"ccreciente_0.5\"]['Tiempo de ejecucion'],\n",
    "                  'P = 0.75': resultsC[\"ccreciente_0.75\"]['Tiempo de ejecucion'],\n",
    "                  'Completos': resultsC[\"ccreciente_1.0\"]['Tiempo de ejecucion']})\n",
    "\n",
    "ax = df.plot(logy=False)\n",
    "ax.set_ylabel(u\"Tiempo de ejecución en segundos\")\n",
    "ax.set_xlabel(u\"Cantidad de clientes\")\n",
    "\n",
    "plt.title(u\"Tiempo de ejecución según la cantidad de clientes\")\n",
    "plt.show()"
   ]
  },
  {
   "cell_type": "markdown",
   "metadata": {},
   "source": [
    "## Contraste con la complejidad teórica"
   ]
  },
  {
   "cell_type": "markdown",
   "metadata": {},
   "source": [
    "Necesitamos un Pearson que muestre la correlación entre la complejidad empírica y O(R log(C)). "
   ]
  },
  {
   "cell_type": "code",
   "execution_count": null,
   "metadata": {},
   "outputs": [],
   "source": [
    "sns.jointplot(dfComp['Complejidad n**2'], dfComp['Tiempo en segundos de completos'], kind=\"reg\")\n",
    "sns.jointplot(dfComp['Complejidad n'], dfComp['Tiempo en segundos de arboles'], kind=\"reg\")\n",
    "\n",
    "\n",
    "plt.show()"
   ]
  },
  {
   "cell_type": "code",
   "execution_count": null,
   "metadata": {},
   "outputs": [],
   "source": [
    "dfRoot = pd.DataFrame({'Arboles': results[\"dfNormal_0.0\"]['Tiempo calculando raiz'],\n",
    "                  'P = 0.25': results[\"dfNormal_0.25\"]['Tiempo calculando raiz'],\n",
    "                  'P = 0.5': results[\"dfNormal_0.5\"]['Tiempo calculando raiz'],\n",
    "                  'P = 0.75': results[\"dfNormal_0.75\"]['Tiempo calculando raiz'],\n",
    "                  'Completos': results[\"dfNormal_1.0\"]['Tiempo calculando raiz']})\n",
    "\n",
    "ax = dfRoot.plot(logy=False)\n",
    "ax.set_ylabel(\"Tiempos de ejecución en Segundos\")\n",
    "ax.set_xlabel(\"Cantidad de nodos\")\n",
    "\n",
    "plt.title(\"Tiempos para encontrar el MST\")\n",
    "plt.show()"
   ]
  },
  {
   "cell_type": "code",
   "execution_count": null,
   "metadata": {
    "collapsed": true
   },
   "outputs": [],
   "source": []
  },
  {
   "cell_type": "code",
   "execution_count": null,
   "metadata": {},
   "outputs": [],
   "source": [
    "dfComp = pd.DataFrame()\n",
    "dfComp['Cantidad de Nodos'] = results[\"dfNormal_1.0\"].index.values\n",
    "dfComp['Complejidad n**2'] = [100 + random.normalvariate(n**2,2) for n in results[\"dfNormal_0.0\"].index.values]\n",
    "dfComp['Complejidad n'] = [100 + random.normalvariate(n,0.3) for n in results[\"dfNormal_0.0\"].index.values]\n",
    "\n",
    "dfComp['Tiempo de encontrar raiz en segundos de ex-completos'] =  results[\"dfNormal_1.0\"]['Tiempo calculando raiz']\n",
    "dfComp['Tiempo de encontrar raiz en segundos de arboles'] =  results[\"dfNormal_0.0\"]['Tiempo calculando raiz']\n",
    "plt.clf()\n",
    "correlation = dfComp.corr()\n",
    "correlation"
   ]
  },
  {
   "cell_type": "code",
   "execution_count": null,
   "metadata": {},
   "outputs": [],
   "source": [
    "sns.jointplot(dfComp['Complejidad n'], dfComp['Tiempo de encontrar raiz en segundos de ex-completos'], kind=\"reg\")\n",
    "sns.jointplot(dfComp['Complejidad n'], dfComp['Tiempo de encontrar raiz en segundos de arboles'], kind=\"reg\")\n",
    "\n",
    "plt.show()"
   ]
  },
  {
   "cell_type": "markdown",
   "metadata": {
    "collapsed": true
   },
   "source": [
    "# Super Test"
   ]
  },
  {
   "cell_type": "code",
   "execution_count": null,
   "metadata": {
    "collapsed": true
   },
   "outputs": [],
   "source": [
    "with open(\"tests/rlogc.test-in\", 'w') as entrada:\n",
    "    for c in range(5,21):\n",
    "        for p in np.arange(0.0, 1.1, 0.01):\n",
    "            for i in range(80):\n",
    "                grafo = generarGrafoPesosNormales(5, c, 20, 5, p)\n",
    "                entrada.write(\"5 \" + str(c) + \" \" + str(len(grafo)) + '\\n')\n",
    "                for j in grafo:\n",
    "                    entrada.write(j + '\\n')\n",
    "    entrada.write(\"0\\n\")"
   ]
  },
  {
   "cell_type": "code",
   "execution_count": null,
   "metadata": {
    "collapsed": true
   },
   "outputs": [],
   "source": [
    "!make expe"
   ]
  },
  {
   "cell_type": "code",
   "execution_count": null,
   "metadata": {
    "collapsed": true
   },
   "outputs": [],
   "source": [
    "results = {}\n",
    "\n",
    "dfRlogc = pd.read_csv(\"./experimentacion/rlogc.stderr\", delimiter=\";\")"
   ]
  },
  {
   "cell_type": "code",
   "execution_count": null,
   "metadata": {},
   "outputs": [],
   "source": [
    "dfRlogc = dfRlogc.groupby([\"Cantidad de rutas\", \"Cantidad de clientes\"]).mean()\n",
    "dfRlogc"
   ]
  },
  {
   "cell_type": "code",
   "execution_count": null,
   "metadata": {},
   "outputs": [],
   "source": [
    "dfComp = pd.DataFrame()\n",
    "dfComp['Complejidad rlogc'] = [x[0]*math.log(x[1]) for x in dfRlogc.index.get_values()]\n",
    "dfComp['Tiempo de ejecucion'] =  [x for x in dfRlogc['Tiempo de ejecucion']]\n",
    "plt.clf()\n",
    "correlation = dfComp.corr()\n",
    "correlation"
   ]
  },
  {
   "cell_type": "code",
   "execution_count": null,
   "metadata": {},
   "outputs": [],
   "source": [
    "sns.jointplot(dfComp['Complejidad rlogc'], dfComp['Tiempo de ejecucion'], kind=\"reg\")\n",
    "\n",
    "plt.show()"
   ]
  },
  {
   "cell_type": "code",
   "execution_count": null,
   "metadata": {
    "collapsed": true
   },
   "outputs": [],
   "source": []
  }
 ],
 "metadata": {
  "kernelspec": {
   "display_name": "Python 3",
   "language": "python",
   "name": "python3"
  },
  "language_info": {
   "codemirror_mode": {
    "name": "ipython",
    "version": 3
   },
   "file_extension": ".py",
   "mimetype": "text/x-python",
   "name": "python",
   "nbconvert_exporter": "python",
   "pygments_lexer": "ipython3",
   "version": "3.4.3"
  }
 },
 "nbformat": 4,
 "nbformat_minor": 2
}
