{
 "cells": [
  {
   "cell_type": "markdown",
   "metadata": {},
   "source": [
    "# Lets Create Some Random Graphs"
   ]
  },
  {
   "cell_type": "code",
   "execution_count": null,
   "metadata": {
    "collapsed": true
   },
   "outputs": [],
   "source": [
    "# -*- coding: utf-8 -*-\n",
    "import pandas as pd\n",
    "import sys\n",
    "sys.path.append('/usr/local/lib/python2.7/dist-packages')\n",
    "import seaborn as sns\n",
    "import matplotlib.pyplot as plt\n",
    "import numpy as np\n",
    "from scipy import stats\n",
    "import random"
   ]
  },
  {
   "cell_type": "code",
   "execution_count": null,
   "metadata": {
    "collapsed": true
   },
   "outputs": [],
   "source": [
    "'''\n",
    "Idea: generar un grafo completo. Recorrerlo usando DFS desde un nodo elegido al azar.\n",
    "Para cada arista que no sea puente, tomar una muestra de una variable aleatoria y eliminar\n",
    "la arista si la variable supera cierto umbral. A grandes rasgos, el procedimiento consiste\n",
    "en eliminar cierto porcentaje esperado de backedges.\n",
    "'''\n",
    "\n",
    "def sacarBackedges(n, grafo, p_backedge=0.5):\n",
    "    # Elimina cada backedge de un grafo con una probabilidad 1.0 - p_backedge.\n",
    "    vecinosYPesos = [ [] for i in range(n) ]\n",
    "\n",
    "    for e in grafo:\n",
    "        vecinosYPesos[e[0] - 1].append([ e[1], e[2] ])\n",
    "        vecinosYPesos[e[1] - 1].append([ e[0], e[2] ])\n",
    "\n",
    "    color = dict([ (i+1, \"blanco\") for i in range(n) ])\n",
    "    backedges = backedgesDFS(vecinosYPesos, color, 1, -1, [])\n",
    "\n",
    "    for b in backedges:\n",
    "        p = np.random.uniform()\n",
    "        if p >= p_backedge:\n",
    "            grafo.remove(b)\n",
    "    \n",
    "\n",
    "def backedgesDFS(vecinosYPesos, color, v, padre, res):\n",
    "    color[v] = \"gris\"\n",
    "\n",
    "    for t in vecinosYPesos[v-1]:\n",
    "        w = t[0]\n",
    "        if color[w] == \"blanco\":\n",
    "            backedgesDFS(vecinosYPesos, color, w, v, res)\n",
    "        if color[w] == \"gris\" and w != v and w != padre:\n",
    "            l, r = min(v,w), max(v,w)\n",
    "            res.append([l, r, t[1]])\n",
    "\n",
    "    color[v] = \"negro\"\n",
    "\n",
    "    return res\n",
    "\n",
    "def generarGrafoAleatorioPesosNormales(n, mu=5, sigma=1, p_backedge=0.5):\n",
    "    # Genera un grafo completo representado por una lista de aristas.\n",
    "    # El nodo de menor índice aparece antes, pero los pares no son ordenados\n",
    "    # (es decir, el grafo no es dirigido).\n",
    "    grafo = []\n",
    "    pesoActual = 0\n",
    "    for i in range(1, n):\n",
    "        for j in range(i+1, n+1):\n",
    "            grafo.append( [i, j, int(max(np.random.normal(mu, sigma), 0))] )\n",
    "            pesoActual += 1\n",
    "\n",
    "    sacarBackedges(n, grafo, p_backedge)\n",
    "\n",
    "    grafoStr = [ \" \".join( str(k) for k in e ) for e in grafo ]\n",
    "\n",
    "    return grafoStr\n",
    "\n",
    "def generarArbol(n, h):\n",
    "    assert(n>=h)\n",
    "    # Genera un árbol de n vértices con ramas de altura h.\n",
    "    r = (n-1) // h # Cantidad de ramas de altura exactamente h\n",
    "    s = r if (n-1)%h == 0 else r+1\n",
    "    arbol = [ [ 1, 2 + h*i, 1 ] for i in range(s) ]\n",
    "    \n",
    "    # Agrega las ramas de altura h\n",
    "    for i in range(r):\n",
    "        for j in range(2, h+1):\n",
    "            arbol.append([ j + i*h, j + i*h + 1, 1 ])\n",
    "            \n",
    "    for i in range((n-1) % h - 1):\n",
    "        arbol.append([ i + 2 + h*r, i + 3 + h*r, 1 ])\n",
    "        \n",
    "    arbolStr = [ \" \".join( str(k) for k in e ) for e in arbol ]\n",
    "    \n",
    "    return arbolStr\n",
    "\n",
    "def generarEntradaPesosNormales(n, mu=5, sigma=1, p_backedge=0.5, archivo=\"output\"):\n",
    "    # Genera un caso de test con 50 grafos de 5 a n nodos. Los pesos están distribuidos\n",
    "    # uniformemente según los parámetros especificados.\n",
    "    with open(archivo, 'w') as entrada:\n",
    "        for k in range(5,n+1):\n",
    "            for i in range(50):\n",
    "                grafo = generarGrafoAleatorioPesosNormales(k, mu, sigma, p_backedge)\n",
    "                entrada.write(str(k) + \" \" + str(len(grafo)) + '\\n')\n",
    "                for j in grafo:\n",
    "                    entrada.write(j + '\\n')\n",
    "        entrada.write(\"0 0\\n\")\n",
    "        \n",
    "def generarEntradaArboles(n, h, archivo=\"output\"):\n",
    "    # Genera un caso de test con 50 árboles de altura 1 a h.\n",
    "    with open(archivo, 'w') as entrada:\n",
    "        for k in range(1,h+1):\n",
    "            for i in range(50):\n",
    "                grafo = generarArbol(n, k)\n",
    "                entrada.write(str(n) + \" \" + str(len(grafo)) + '\\n')\n",
    "                for j in grafo:\n",
    "                    entrada.write(j + '\\n')\n",
    "        entrada.write(\"0 0\\n\")"
   ]
  },
  {
   "cell_type": "code",
   "execution_count": null,
   "metadata": {
    "collapsed": true
   },
   "outputs": [],
   "source": [
    "maxNumberOfNodes = 40\n",
    "\n",
    "for p_backedges in np.arange(0,1.01,0.25):\n",
    "    generarEntradaPesosNormales(maxNumberOfNodes,5,1,p_backedges,\"./tests/normales_p_{0}.test-in\".format(p_backedges))"
   ]
  },
  {
   "cell_type": "code",
   "execution_count": null,
   "metadata": {
    "collapsed": true
   },
   "outputs": [],
   "source": []
  },
  {
   "cell_type": "markdown",
   "metadata": {},
   "source": [
    "# Corremos el experimento"
   ]
  },
  {
   "cell_type": "code",
   "execution_count": null,
   "metadata": {
    "collapsed": true
   },
   "outputs": [],
   "source": [
    "! make expe"
   ]
  },
  {
   "cell_type": "code",
   "execution_count": null,
   "metadata": {
    "collapsed": true
   },
   "outputs": [],
   "source": [
    "results ={}\n",
    "\n",
    "for p_backedges in np.arange(0,1.01,0.25):\n",
    "    results[\"dfNormal_{0}\".format(p_backedges)] = pd.read_csv(\"./experimentacion/normales_p_{0}.stderr\".format(p_backedges), delimiter=\";\")\n",
    "\n"
   ]
  },
  {
   "cell_type": "code",
   "execution_count": null,
   "metadata": {
    "scrolled": true
   },
   "outputs": [],
   "source": [
    "results[\"dfNormal_1.0\"].head()"
   ]
  },
  {
   "cell_type": "code",
   "execution_count": null,
   "metadata": {},
   "outputs": [],
   "source": [
    "for key, value in results.items():\n",
    "    results[key] = value.groupby(\"Cantidad de Nodos\").mean()\n",
    "# dfNormal = dfNormal.groupby(\"Cantidad de Nodos\").mean()\n",
    "results[\"dfNormal_1.0\"]"
   ]
  },
  {
   "cell_type": "code",
   "execution_count": null,
   "metadata": {},
   "outputs": [],
   "source": [
    "df = pd.DataFrame({'Arboles': results[\"dfNormal_0.0\"]['Tiempo calculando raiz'],\n",
    "                  'P = 0.25': results[\"dfNormal_0.25\"]['Tiempo calculando raiz'],\n",
    "                  'P = 0.5': results[\"dfNormal_0.5\"]['Tiempo calculando raiz'],\n",
    "                  'P = 0.75': results[\"dfNormal_0.75\"]['Tiempo calculando raiz'],\n",
    "                  'Completos': results[\"dfNormal_1.0\"]['Tiempo calculando raiz']})\n",
    "\n",
    "ax = df.plot(logy=False)\n",
    "ax.set_ylabel(\"Tiempos de ejecucion en Segundos\")\n",
    "ax.set_xlabel(\"Cantidad de nodos\")\n",
    "\n",
    "plt.title(\"Tiempos para calcular la raiz\")\n",
    "plt.show()"
   ]
  },
  {
   "cell_type": "code",
   "execution_count": null,
   "metadata": {},
   "outputs": [],
   "source": [
    "dfComp = pd.DataFrame()\n",
    "dfComp['Cantidad de Nodos'] = results[\"dfNormal_1.0\"].index.values\n",
    "dfComp['Complejidad n**2'] = [n**2 for n in results[\"dfNormal_0.0\"].index.values]\n",
    "dfComp['Complejidad n'] = [n for n in results[\"dfNormal_0.0\"].index.values]\n",
    "\n",
    "dfComp['Tiempo de calculo de raiz'] =  results[\"dfNormal_1.0\"]['Tiempo calculando raiz']\n",
    "dfComp['Tiempo en segundos de arboles'] =  results[\"dfNormal_0.0\"]['Tiempo calculando raiz']\n",
    "plt.clf()\n",
    "correlation = dfComp.corr()\n",
    "correlation"
   ]
  },
  {
   "cell_type": "code",
   "execution_count": null,
   "metadata": {},
   "outputs": [],
   "source": [
    "sns.jointplot(dfComp['Complejidad n'], dfComp['Tiempo de calculo de raiz'], kind=\"reg\")\n",
    "sns.jointplot(dfComp['Complejidad n'], dfComp['Tiempo en segundos de arboles'], kind=\"reg\")\n",
    "\n",
    "\n",
    "plt.show()"
   ]
  },
  {
   "cell_type": "code",
   "execution_count": null,
   "metadata": {
    "collapsed": true
   },
   "outputs": [],
   "source": [
    "dfRoot = pd.DataFrame({'Arboles': results[\"dfNormal_0.0\"]['Tiempo calculando raiz'],\n",
    "                  'P = 0.25': results[\"dfNormal_0.25\"]['Tiempo calculando raiz'],\n",
    "                  'P = 0.5': results[\"dfNormal_0.5\"]['Tiempo calculando raiz'],\n",
    "                  'P = 0.75': results[\"dfNormal_0.75\"]['Tiempo calculando raiz'],\n",
    "                  'Completos': results[\"dfNormal_1.0\"]['Tiempo calculando raiz']})\n",
    "\n",
    "ax = dfRoot.plot(logy=False)\n",
    "ax.set_ylabel(\"Tiempos de ejecución en Segundos\")\n",
    "ax.set_xlabel(\"Cantidad de nodos\")\n",
    "\n",
    "plt.title(\"Tiempos para encontrar el MST\")\n",
    "plt.show()"
   ]
  },
  {
   "cell_type": "code",
   "execution_count": null,
   "metadata": {},
   "outputs": [],
   "source": [
    "dfComp = pd.DataFrame()\n",
    "dfComp['Cantidad de Nodos'] = results[\"dfNormal_1.0\"].index.values\n",
    "dfComp['Complejidad n**2'] = [100 + random.normalvariate(n**2,2) for n in results[\"dfNormal_0.0\"].index.values]\n",
    "dfComp['Complejidad n'] = [100 + random.normalvariate(n,0.3) for n in results[\"dfNormal_0.0\"].index.values]\n",
    "\n",
    "dfComp['Tiempo de encontrar raiz en segundos de ex-completos'] =  results[\"dfNormal_1.0\"]['Tiempo calculando raiz']\n",
    "dfComp['Tiempo de encontrar raiz en segundos de arboles'] =  results[\"dfNormal_0.0\"]['Tiempo calculando raiz']\n",
    "plt.clf()\n",
    "correlation = dfComp.corr()\n",
    "correlation"
   ]
  },
  {
   "cell_type": "code",
   "execution_count": null,
   "metadata": {
    "collapsed": true
   },
   "outputs": [],
   "source": [
    "sns.jointplot(dfComp['Complejidad n'], dfComp['Tiempo de encontrar raiz en segundos de ex-completos'], kind=\"reg\")\n",
    "sns.jointplot(dfComp['Complejidad n'], dfComp['Tiempo de encontrar raiz en segundos de arboles'], kind=\"reg\")\n",
    "\n",
    "plt.show()"
   ]
  },
  {
   "cell_type": "markdown",
   "metadata": {
    "collapsed": true
   },
   "source": [
    "# Experimento para altura del arbol "
   ]
  },
  {
   "cell_type": "code",
   "execution_count": null,
   "metadata": {
    "collapsed": true
   },
   "outputs": [],
   "source": [
    "for n in np.arange(20,101,20):\n",
    "    generarEntradaArboles(n,n,\"./tests/arboles_de_{0}_nodos.test-in\".format(n))"
   ]
  },
  {
   "cell_type": "code",
   "execution_count": null,
   "metadata": {
    "collapsed": true
   },
   "outputs": [],
   "source": [
    "!make expe"
   ]
  },
  {
   "cell_type": "code",
   "execution_count": null,
   "metadata": {
    "collapsed": true
   },
   "outputs": [],
   "source": [
    "results ={}\n",
    "\n",
    "for n in np.arange(20,101,20):\n",
    "    results[\"dfArboles_{0}\".format(n)] = pd.read_csv(\"./experimentacion/arboles_de_{0}_nodos.stderr\".format(n), delimiter=\";\")\n",
    "\n"
   ]
  },
  {
   "cell_type": "code",
   "execution_count": null,
   "metadata": {},
   "outputs": [],
   "source": [
    "for key, value in results.items():\n",
    "    results[key] = value.groupby(\"Altura del arbol\").mean()\n",
    "# dfNormal = dfNormal.groupby(\"Cantidad de Nodos\").mean()\n",
    "results[\"dfArboles_80\"]"
   ]
  },
  {
   "cell_type": "code",
   "execution_count": null,
   "metadata": {},
   "outputs": [],
   "source": [
    "df = pd.DataFrame({'20 nodos': results[\"dfArboles_20\"]['Tiempo calculando raiz'],\n",
    "                  '40 nodos': results[\"dfArboles_40\"]['Tiempo calculando raiz'],\n",
    "                  '60 nodos': results[\"dfArboles_60\"]['Tiempo calculando raiz'],\n",
    "                  '80 nodos': results[\"dfArboles_80\"]['Tiempo calculando raiz'],\n",
    "                  '100 nodos': results[\"dfArboles_100\"]['Tiempo calculando raiz']})\n",
    "\n",
    "ax = df.plot(logy=False)\n",
    "ax.set_ylabel(\"Tiempos de ejecucion en Segundos\")\n",
    "ax.set_xlabel(\"Diametro del arbol\")\n",
    "\n",
    "plt.title(\"Tiempos para calcular la raiz\")\n",
    "plt.show()"
   ]
  }
 ],
 "metadata": {
  "kernelspec": {
   "display_name": "Python 3",
   "language": "python",
   "name": "python3"
  },
  "language_info": {
   "codemirror_mode": {
    "name": "ipython",
    "version": 3
   },
   "file_extension": ".py",
   "mimetype": "text/x-python",
   "name": "python",
   "nbconvert_exporter": "python",
   "pygments_lexer": "ipython3",
   "version": "3.4.3"
  }
 },
 "nbformat": 4,
 "nbformat_minor": 2
}
