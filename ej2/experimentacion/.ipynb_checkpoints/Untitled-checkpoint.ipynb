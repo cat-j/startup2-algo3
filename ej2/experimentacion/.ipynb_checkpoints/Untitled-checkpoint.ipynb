{
 "cells": [
  {
   "cell_type": "markdown",
   "metadata": {},
   "source": [
    "# Lets Create Some Random Graphs"
   ]
  },
  {
   "cell_type": "code",
   "execution_count": 3,
   "metadata": {
    "collapsed": true
   },
   "outputs": [],
   "source": [
    "import numpy as np"
   ]
  },
  {
   "cell_type": "code",
   "execution_count": 60,
   "metadata": {},
   "outputs": [],
   "source": [
    "            # -*- coding: utf-8 -*-\n",
    "\n",
    "import numpy as np\n",
    "\n",
    "'''\n",
    "Idea: generar un grafo completo. Recorrerlo usando DFS desde un nodo elegido al azar.\n",
    "Para cada arista que no sea puente, tomar una muestra de una variable aleatoria y eliminar\n",
    "la arista si la variable supera cierto umbral. A grandes rasgos, el procedimiento consiste\n",
    "en eliminar cierto porcentaje esperado de backedges.\n",
    "'''\n",
    "\n",
    "def generarPesosUniformes(n, minimo=0, maximo=10):\n",
    "    return [ np.random.randint(minimo, maximo) for i in range( int(n*(n-1) / 2)) ]\n",
    "\n",
    "def generarPesosNormales(n, mu=5, sigma=1):\n",
    "    return [ int(max(np.random.normal(mu, sigma), 0)) for i in range(int(n*(n-1) / 2)) ]\n",
    "\n"
   ]
  },
  {
   "cell_type": "code",
   "execution_count": 61,
   "metadata": {},
   "outputs": [],
   "source": [
    "def generarGrafo(n, pesos, p_backedge=0.5):\n",
    "    # Es necesario que los pesos se correspondan con la cantidad de aristas\n",
    "    # de un grafo completo de n nodos\n",
    "    assert(len(pesos) == n*(n-1) / 2)\n",
    "\n",
    "    # Genera un grafo completo representado por una lista de aristas.\n",
    "    # El nodo de menor índice aparece antes, pero los pares no son ordenados\n",
    "    # (es decir, el grafo no es dirigido).\n",
    "    grafoCompleto = []\n",
    "    pesoActual = 0\n",
    "    for i in range(1, n):\n",
    "        for j in range(i+1, n+1):\n",
    "            grafoCompleto.append( [i, j, pesos[pesoActual]] )\n",
    "            pesoActual += 1\n",
    "\n",
    "    grafoStr = [ \" \".join( str(k) for k in e ) for e in grafoCompleto ]\n",
    "\n",
    "    return grafoStr"
   ]
  },
  {
   "cell_type": "code",
   "execution_count": 62,
   "metadata": {
    "collapsed": true
   },
   "outputs": [],
   "source": [
    "def generarEntradaPesosUniformes(n, minimo=0, maximo=10, p_backedge=0.5, archivo=\"output\"):\n",
    "    # Genera un caso de test con 32 grafos de n nodos. Los pesos están distribuidos\n",
    "    # uniformemente según los parámetros especificados.\n",
    "    with open(archivo, 'w') as entrada:\n",
    "        for i in range(32):\n",
    "            pesos = generarPesosUniformes(n, minimo, maximo)\n",
    "            grafo = generarGrafo(n, pesos)\n",
    "            entrada.write(str(n) + \" \" + str(len(grafo)) + '\\n')\n",
    "            for j in grafo:\n",
    "                entrada.write(j + '\\n')\n",
    "        entrada.write(\"0\\n\")\n",
    "\n",
    "    return\n",
    "\n",
    "def generarEntradaPesosNormales(n, mu=5, sigma=1, p_backedge=0.5, archivo=\"output\"):\n",
    "    # Genera un caso de test con 32 grafos de n nodos. Los pesos están distribuidos\n",
    "    # uniformemente según los parámetros especificados.\n",
    "    with open(archivo, 'w') as entrada:\n",
    "        for i in range(32):\n",
    "            pesos = generarPesosNormales(n, mu, sigma)\n",
    "            grafo = generarGrafo(n, pesos)\n",
    "            entrada.write(str(n) + \" \" + str(len(grafo)) + '\\n')\n",
    "            for j in grafo:\n",
    "                entrada.write(j + '\\n')\n",
    "        entrada.write(\"0\\n\")\n",
    "\n",
    "    return"
   ]
  },
  {
   "cell_type": "code",
   "execution_count": 63,
   "metadata": {},
   "outputs": [
    {
     "name": "stdout",
     "output_type": "stream",
     "text": [
      "45.0\n",
      "45.0\n",
      "45.0\n",
      "45.0\n",
      "45.0\n",
      "45.0\n",
      "45.0\n",
      "45.0\n",
      "45.0\n",
      "45.0\n",
      "45.0\n",
      "45.0\n",
      "45.0\n",
      "45.0\n",
      "45.0\n",
      "45.0\n",
      "45.0\n",
      "45.0\n",
      "45.0\n",
      "45.0\n",
      "45.0\n",
      "45.0\n",
      "45.0\n",
      "45.0\n",
      "45.0\n",
      "45.0\n",
      "45.0\n",
      "45.0\n",
      "45.0\n",
      "45.0\n",
      "45.0\n",
      "45.0\n"
     ]
    }
   ],
   "source": [
    "generarEntradaPesosUniformes(10, 1, 30, 0.5, \"./uniforme_10nodos_1a30.in\")\n",
    "generarEntradaPesosNormales(10, 30, 5, 0.5, \"./normal_10nodos_mu30_sigma5.in\")"
   ]
  },
  {
   "cell_type": "code",
   "execution_count": null,
   "metadata": {
    "collapsed": true
   },
   "outputs": [],
   "source": []
  },
  {
   "cell_type": "code",
   "execution_count": null,
   "metadata": {
    "collapsed": true
   },
   "outputs": [],
   "source": []
  },
  {
   "cell_type": "code",
   "execution_count": null,
   "metadata": {
    "collapsed": true
   },
   "outputs": [],
   "source": []
  },
  {
   "cell_type": "code",
   "execution_count": null,
   "metadata": {
    "collapsed": true
   },
   "outputs": [],
   "source": []
  },
  {
   "cell_type": "code",
   "execution_count": null,
   "metadata": {
    "collapsed": true
   },
   "outputs": [],
   "source": []
  }
 ],
 "metadata": {
  "kernelspec": {
   "display_name": "Python 3",
   "language": "python",
   "name": "python3"
  },
  "language_info": {
   "codemirror_mode": {
    "name": "ipython",
    "version": 3
   },
   "file_extension": ".py",
   "mimetype": "text/x-python",
   "name": "python",
   "nbconvert_exporter": "python",
   "pygments_lexer": "ipython3",
   "version": "3.6.1"
  }
 },
 "nbformat": 4,
 "nbformat_minor": 2
}
