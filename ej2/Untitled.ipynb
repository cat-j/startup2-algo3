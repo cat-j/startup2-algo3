{
 "cells": [
  {
   "cell_type": "code",
   "execution_count": 3,
   "metadata": {},
   "outputs": [
    {
     "ename": "AssertionError",
     "evalue": "",
     "output_type": "error",
     "traceback": [
      "\u001b[0;31m---------------------------------------------------------------------------\u001b[0m",
      "\u001b[0;31mAssertionError\u001b[0m                            Traceback (most recent call last)",
      "\u001b[0;32m<ipython-input-3-376491718aef>\u001b[0m in \u001b[0;36m<module>\u001b[0;34m()\u001b[0m\n\u001b[1;32m     70\u001b[0m \u001b[0;31m# print generarGrafo(10, pesosNormales)\u001b[0m\u001b[0;34m\u001b[0m\u001b[0;34m\u001b[0m\u001b[0m\n\u001b[1;32m     71\u001b[0m \u001b[0;34m\u001b[0m\u001b[0m\n\u001b[0;32m---> 72\u001b[0;31m \u001b[0mgenerarEntradaPesosUniformes\u001b[0m\u001b[0;34m(\u001b[0m\u001b[0;36m10\u001b[0m\u001b[0;34m,\u001b[0m \u001b[0;36m1\u001b[0m\u001b[0;34m,\u001b[0m \u001b[0;36m30\u001b[0m\u001b[0;34m,\u001b[0m \u001b[0;36m0.5\u001b[0m\u001b[0;34m,\u001b[0m \u001b[0;34m\"uniforme_10nodos_1a30.in\"\u001b[0m\u001b[0;34m)\u001b[0m\u001b[0;34m\u001b[0m\u001b[0m\n\u001b[0m\u001b[1;32m     73\u001b[0m \u001b[0mgenerarEntradaPesosNormales\u001b[0m\u001b[0;34m(\u001b[0m\u001b[0;36m10\u001b[0m\u001b[0;34m,\u001b[0m \u001b[0;36m30\u001b[0m\u001b[0;34m,\u001b[0m \u001b[0;36m5\u001b[0m\u001b[0;34m,\u001b[0m \u001b[0;36m0.5\u001b[0m\u001b[0;34m,\u001b[0m \u001b[0;34m\"normal_10nodos_mu30_sigma5.in\"\u001b[0m\u001b[0;34m)\u001b[0m\u001b[0;34m\u001b[0m\u001b[0m\n",
      "\u001b[0;32m<ipython-input-3-376491718aef>\u001b[0m in \u001b[0;36mgenerarEntradaPesosUniformes\u001b[0;34m(n, minimo, maximo, p_backedge, archivo)\u001b[0m\n\u001b[1;32m     41\u001b[0m         \u001b[0;32mfor\u001b[0m \u001b[0mi\u001b[0m \u001b[0;32min\u001b[0m \u001b[0mrange\u001b[0m\u001b[0;34m(\u001b[0m\u001b[0;36m32\u001b[0m\u001b[0;34m)\u001b[0m\u001b[0;34m:\u001b[0m\u001b[0;34m\u001b[0m\u001b[0m\n\u001b[1;32m     42\u001b[0m             \u001b[0mpesos\u001b[0m \u001b[0;34m=\u001b[0m \u001b[0mgenerarPesosUniformes\u001b[0m\u001b[0;34m(\u001b[0m\u001b[0mn\u001b[0m\u001b[0;34m,\u001b[0m \u001b[0mminimo\u001b[0m\u001b[0;34m,\u001b[0m \u001b[0mmaximo\u001b[0m\u001b[0;34m)\u001b[0m\u001b[0;34m\u001b[0m\u001b[0m\n\u001b[0;32m---> 43\u001b[0;31m             \u001b[0mgrafo\u001b[0m \u001b[0;34m=\u001b[0m \u001b[0mgenerarGrafo\u001b[0m\u001b[0;34m(\u001b[0m\u001b[0mn\u001b[0m\u001b[0;34m,\u001b[0m \u001b[0mpesos\u001b[0m\u001b[0;34m)\u001b[0m\u001b[0;34m\u001b[0m\u001b[0m\n\u001b[0m\u001b[1;32m     44\u001b[0m             \u001b[0mentrada\u001b[0m\u001b[0;34m.\u001b[0m\u001b[0mwrite\u001b[0m\u001b[0;34m(\u001b[0m\u001b[0mstr\u001b[0m\u001b[0;34m(\u001b[0m\u001b[0mn\u001b[0m\u001b[0;34m)\u001b[0m \u001b[0;34m+\u001b[0m \u001b[0;34m\" \"\u001b[0m \u001b[0;34m+\u001b[0m \u001b[0mstr\u001b[0m\u001b[0;34m(\u001b[0m\u001b[0mlen\u001b[0m\u001b[0;34m(\u001b[0m\u001b[0mgrafo\u001b[0m\u001b[0;34m)\u001b[0m\u001b[0;34m)\u001b[0m \u001b[0;34m+\u001b[0m \u001b[0;34m'\\n'\u001b[0m\u001b[0;34m)\u001b[0m\u001b[0;34m\u001b[0m\u001b[0m\n\u001b[1;32m     45\u001b[0m             \u001b[0;32mfor\u001b[0m \u001b[0mj\u001b[0m \u001b[0;32min\u001b[0m \u001b[0mgrafo\u001b[0m\u001b[0;34m:\u001b[0m\u001b[0;34m\u001b[0m\u001b[0m\n",
      "\u001b[0;32m<ipython-input-3-376491718aef>\u001b[0m in \u001b[0;36mgenerarGrafo\u001b[0;34m(n, pesos, p_backedge)\u001b[0m\n\u001b[1;32m     19\u001b[0m     \u001b[0;31m# Es necesario que los pesos se correspondan con la cantidad de aristas\u001b[0m\u001b[0;34m\u001b[0m\u001b[0;34m\u001b[0m\u001b[0m\n\u001b[1;32m     20\u001b[0m     \u001b[0;31m# de un grafo completo de n nodos\u001b[0m\u001b[0;34m\u001b[0m\u001b[0;34m\u001b[0m\u001b[0m\n\u001b[0;32m---> 21\u001b[0;31m     \u001b[0;32massert\u001b[0m\u001b[0;34m(\u001b[0m\u001b[0mlen\u001b[0m\u001b[0;34m(\u001b[0m\u001b[0mpesos\u001b[0m\u001b[0;34m)\u001b[0m \u001b[0;34m==\u001b[0m \u001b[0mn\u001b[0m\u001b[0;34m*\u001b[0m\u001b[0;34m(\u001b[0m\u001b[0mn\u001b[0m\u001b[0;34m-\u001b[0m\u001b[0;36m1\u001b[0m\u001b[0;34m)\u001b[0m \u001b[0;34m/\u001b[0m \u001b[0;36m2\u001b[0m\u001b[0;34m)\u001b[0m\u001b[0;34m\u001b[0m\u001b[0m\n\u001b[0m\u001b[1;32m     22\u001b[0m \u001b[0;34m\u001b[0m\u001b[0m\n\u001b[1;32m     23\u001b[0m     \u001b[0;31m# Genera un grafo completo representado por una lista de aristas.\u001b[0m\u001b[0;34m\u001b[0m\u001b[0;34m\u001b[0m\u001b[0m\n",
      "\u001b[0;31mAssertionError\u001b[0m: "
     ]
    }
   ],
   "source": [
    "# -*- coding: utf-8 -*-\n",
    "\n",
    "import numpy as np\n",
    "\n",
    "'''\n",
    "Idea: generar un grafo completo. Recorrerlo usando DFS desde un nodo elegido al azar.\n",
    "Para cada arista que no sea puente, tomar una muestra de una variable aleatoria y eliminar\n",
    "la arista si la variable supera cierto umbral. A grandes rasgos, el procedimiento consiste\n",
    "en eliminar cierto porcentaje esperado de backedges.\n",
    "'''\n",
    "\n",
    "def generarPesosUniformes(n, minimo=0, maximo=10):\n",
    "    return [ np.random.randint(minimo, maximo) for i in range(n*(n-1)) ]\n",
    "\n",
    "def generarPesosNormales(n, mu=5, sigma=1):\n",
    "    return [ int(max(np.random.normal(mu, sigma), 0)) for i in range(n*(n-1) / 2) ]\n",
    "\n",
    "def generarGrafo(n, pesos, p_backedge=0.5):\n",
    "    # Es necesario que los pesos se correspondan con la cantidad de aristas\n",
    "    # de un grafo completo de n nodos\n",
    "    assert(len(pesos) == n*(n-1) / 2)\n",
    "\n",
    "    # Genera un grafo completo representado por una lista de aristas.\n",
    "    # El nodo de menor índice aparece antes, pero los pares no son ordenados\n",
    "    # (es decir, el grafo no es dirigido).\n",
    "    grafoCompleto = []\n",
    "    pesoActual = 0\n",
    "    for i in range(1, n):\n",
    "        for j in range(i+1, n+1):\n",
    "            grafoCompleto.append( [i, j, pesos[pesoActual]] )\n",
    "            pesoActual += 1\n",
    "\n",
    "    grafoStr = [ \" \".join( str(k) for k in e ) for e in grafoCompleto ]\n",
    "\n",
    "    return grafoStr\n",
    "\n",
    "def generarEntradaPesosUniformes(n, minimo=0, maximo=10, p_backedge=0.5, archivo=\"output\"):\n",
    "    # Genera un caso de test con 32 grafos de n nodos. Los pesos están distribuidos\n",
    "    # uniformemente según los parámetros especificados.\n",
    "    with open(archivo, 'w') as entrada:\n",
    "        for i in range(32):\n",
    "            pesos = generarPesosUniformes(n, minimo, maximo)\n",
    "            grafo = generarGrafo(n, pesos)\n",
    "            entrada.write(str(n) + \" \" + str(len(grafo)) + '\\n')\n",
    "            for j in grafo:\n",
    "                entrada.write(j + '\\n')\n",
    "        entrada.write(\"0\\n\")\n",
    "\n",
    "    return\n",
    "\n",
    "def generarEntradaPesosNormales(n, mu=5, sigma=1, p_backedge=0.5, archivo=\"output\"):\n",
    "    # Genera un caso de test con 32 grafos de n nodos. Los pesos están distribuidos\n",
    "    # uniformemente según los parámetros especificados.\n",
    "    with open(archivo, 'w') as entrada:\n",
    "        for i in range(32):\n",
    "            pesos = generarPesosNormales(n, mu, sigma)\n",
    "            grafo = generarGrafo(n, pesos)\n",
    "            entrada.write(str(n) + \" \" + str(len(grafo)) + '\\n')\n",
    "            for j in grafo:\n",
    "                entrada.write(j + '\\n')\n",
    "        entrada.write(\"0\\n\")\n",
    "\n",
    "    return\n",
    "\n",
    "\n",
    "# pesosUniformes = generarPesosUniformes(10)\n",
    "# pesosNormales = generarPesosNormales(10)\n",
    "\n",
    "# print generarGrafo(10, pesosUniformes)\n",
    "# print generarGrafo(10, pesosNormales)\n",
    "\n",
    "generarEntradaPesosUniformes(10, 1, 30, 0.5, \"uniforme_10nodos_1a30.in\")\n",
    "generarEntradaPesosNormales(10, 30, 5, 0.5, \"normal_10nodos_mu30_sigma5.in\")"
   ]
  },
  {
   "cell_type": "code",
   "execution_count": null,
   "metadata": {
    "collapsed": true
   },
   "outputs": [],
   "source": []
  }
 ],
 "metadata": {
  "kernelspec": {
   "display_name": "Python 3",
   "language": "python",
   "name": "python3"
  },
  "language_info": {
   "codemirror_mode": {
    "name": "ipython",
    "version": 3
   },
   "file_extension": ".py",
   "mimetype": "text/x-python",
   "name": "python",
   "nbconvert_exporter": "python",
   "pygments_lexer": "ipython3",
   "version": "3.6.1"
  }
 },
 "nbformat": 4,
 "nbformat_minor": 2
}
